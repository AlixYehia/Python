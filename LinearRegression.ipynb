{
 "cells": [
  {
   "cell_type": "code",
   "execution_count": 3,
   "id": "12259767",
   "metadata": {},
   "outputs": [
    {
     "name": "stdout",
     "output_type": "stream",
     "text": [
      "Collecting numpy==1.23.5\n",
      "  Downloading numpy-1.23.5-cp311-cp311-win_amd64.whl (14.6 MB)\n",
      "     ---------------------------------------- 0.0/14.6 MB ? eta -:--:--\n",
      "     ---------------------------------------- 0.0/14.6 MB ? eta -:--:--\n",
      "     --------------------------------------- 0.0/14.6 MB 653.6 kB/s eta 0:00:23\n",
      "     ---------------------------------------- 0.1/14.6 MB 1.4 MB/s eta 0:00:11\n",
      "      --------------------------------------- 0.3/14.6 MB 2.1 MB/s eta 0:00:07\n",
      "     - -------------------------------------- 0.5/14.6 MB 2.6 MB/s eta 0:00:06\n",
      "     - -------------------------------------- 0.6/14.6 MB 2.7 MB/s eta 0:00:06\n",
      "     -- ------------------------------------- 0.8/14.6 MB 2.8 MB/s eta 0:00:05\n",
      "     -- ------------------------------------- 0.9/14.6 MB 3.0 MB/s eta 0:00:05\n",
      "     -- ------------------------------------- 1.0/14.6 MB 3.0 MB/s eta 0:00:05\n",
      "     --- ------------------------------------ 1.2/14.6 MB 3.2 MB/s eta 0:00:05\n",
      "     --- ------------------------------------ 1.3/14.6 MB 3.1 MB/s eta 0:00:05\n",
      "     ---- ----------------------------------- 1.5/14.6 MB 3.2 MB/s eta 0:00:05\n",
      "     ---- ----------------------------------- 1.6/14.6 MB 3.3 MB/s eta 0:00:04\n",
      "     ---- ----------------------------------- 1.8/14.6 MB 3.3 MB/s eta 0:00:04\n",
      "     ----- ---------------------------------- 1.9/14.6 MB 3.3 MB/s eta 0:00:04\n",
      "     ----- ---------------------------------- 2.1/14.6 MB 3.3 MB/s eta 0:00:04\n",
      "     ------ --------------------------------- 2.2/14.6 MB 3.3 MB/s eta 0:00:04\n",
      "     ------ --------------------------------- 2.4/14.6 MB 3.4 MB/s eta 0:00:04\n",
      "     ------ --------------------------------- 2.5/14.6 MB 3.4 MB/s eta 0:00:04\n",
      "     ------- -------------------------------- 2.7/14.6 MB 3.4 MB/s eta 0:00:04\n",
      "     ------- -------------------------------- 2.8/14.6 MB 3.4 MB/s eta 0:00:04\n",
      "     -------- ------------------------------- 3.0/14.6 MB 3.4 MB/s eta 0:00:04\n",
      "     -------- ------------------------------- 3.1/14.6 MB 3.4 MB/s eta 0:00:04\n",
      "     -------- ------------------------------- 3.3/14.6 MB 3.4 MB/s eta 0:00:04\n",
      "     --------- ------------------------------ 3.4/14.6 MB 3.4 MB/s eta 0:00:04\n",
      "     --------- ------------------------------ 3.6/14.6 MB 3.5 MB/s eta 0:00:04\n",
      "     ---------- ----------------------------- 3.7/14.6 MB 3.5 MB/s eta 0:00:04\n",
      "     ---------- ----------------------------- 3.9/14.6 MB 3.5 MB/s eta 0:00:04\n",
      "     ----------- ---------------------------- 4.0/14.6 MB 3.5 MB/s eta 0:00:04\n",
      "     ----------- ---------------------------- 4.2/14.6 MB 3.5 MB/s eta 0:00:04\n",
      "     ----------- ---------------------------- 4.3/14.6 MB 3.5 MB/s eta 0:00:03\n",
      "     ------------ --------------------------- 4.5/14.6 MB 3.5 MB/s eta 0:00:03\n",
      "     ------------ --------------------------- 4.6/14.6 MB 3.5 MB/s eta 0:00:03\n",
      "     ------------- -------------------------- 4.8/14.6 MB 3.5 MB/s eta 0:00:03\n",
      "     ------------- -------------------------- 4.9/14.6 MB 3.5 MB/s eta 0:00:03\n",
      "     ------------- -------------------------- 5.1/14.6 MB 3.5 MB/s eta 0:00:03\n",
      "     -------------- ------------------------- 5.2/14.6 MB 3.5 MB/s eta 0:00:03\n",
      "     -------------- ------------------------- 5.4/14.6 MB 3.5 MB/s eta 0:00:03\n",
      "     --------------- ------------------------ 5.5/14.6 MB 3.5 MB/s eta 0:00:03\n",
      "     --------------- ------------------------ 5.7/14.6 MB 3.5 MB/s eta 0:00:03\n",
      "     --------------- ------------------------ 5.8/14.6 MB 3.5 MB/s eta 0:00:03\n",
      "     ---------------- ----------------------- 6.0/14.6 MB 3.5 MB/s eta 0:00:03\n",
      "     ---------------- ----------------------- 6.1/14.6 MB 3.5 MB/s eta 0:00:03\n",
      "     ----------------- ---------------------- 6.2/14.6 MB 3.5 MB/s eta 0:00:03\n",
      "     ----------------- ---------------------- 6.4/14.6 MB 3.5 MB/s eta 0:00:03\n",
      "     ----------------- ---------------------- 6.5/14.6 MB 3.5 MB/s eta 0:00:03\n",
      "     ------------------ --------------------- 6.7/14.6 MB 3.5 MB/s eta 0:00:03\n",
      "     ------------------ --------------------- 6.9/14.6 MB 3.6 MB/s eta 0:00:03\n",
      "     ------------------- -------------------- 7.0/14.6 MB 3.5 MB/s eta 0:00:03\n",
      "     ------------------- -------------------- 7.1/14.6 MB 3.5 MB/s eta 0:00:03\n",
      "     ------------------- -------------------- 7.3/14.6 MB 3.6 MB/s eta 0:00:03\n",
      "     -------------------- ------------------- 7.4/14.6 MB 3.5 MB/s eta 0:00:03\n",
      "     -------------------- ------------------- 7.6/14.6 MB 3.5 MB/s eta 0:00:02\n",
      "     --------------------- ------------------ 7.7/14.6 MB 3.6 MB/s eta 0:00:02\n",
      "     --------------------- ------------------ 7.9/14.6 MB 3.5 MB/s eta 0:00:02\n",
      "     --------------------- ------------------ 8.0/14.6 MB 3.6 MB/s eta 0:00:02\n",
      "     ---------------------- ----------------- 8.2/14.6 MB 3.6 MB/s eta 0:00:02\n",
      "     ---------------------- ----------------- 8.3/14.6 MB 3.6 MB/s eta 0:00:02\n",
      "     ----------------------- ---------------- 8.5/14.6 MB 3.6 MB/s eta 0:00:02\n",
      "     ----------------------- ---------------- 8.6/14.6 MB 3.6 MB/s eta 0:00:02\n",
      "     ----------------------- ---------------- 8.8/14.6 MB 3.6 MB/s eta 0:00:02\n",
      "     ------------------------ --------------- 8.9/14.6 MB 3.6 MB/s eta 0:00:02\n",
      "     ------------------------ --------------- 9.1/14.6 MB 3.6 MB/s eta 0:00:02\n",
      "     ------------------------- -------------- 9.2/14.6 MB 3.6 MB/s eta 0:00:02\n",
      "     ------------------------- -------------- 9.4/14.6 MB 3.6 MB/s eta 0:00:02\n",
      "     ------------------------- -------------- 9.5/14.6 MB 3.6 MB/s eta 0:00:02\n",
      "     -------------------------- ------------- 9.7/14.6 MB 3.6 MB/s eta 0:00:02\n",
      "     -------------------------- ------------- 9.9/14.6 MB 3.6 MB/s eta 0:00:02\n",
      "     --------------------------- ------------ 10.0/14.6 MB 3.6 MB/s eta 0:00:02\n",
      "     --------------------------- ------------ 10.2/14.6 MB 3.6 MB/s eta 0:00:02\n",
      "     ---------------------------- ----------- 10.3/14.6 MB 3.6 MB/s eta 0:00:02\n",
      "     ---------------------------- ----------- 10.5/14.6 MB 3.6 MB/s eta 0:00:02\n",
      "     ---------------------------- ----------- 10.6/14.6 MB 3.7 MB/s eta 0:00:02\n",
      "     ----------------------------- ---------- 10.8/14.6 MB 3.6 MB/s eta 0:00:02\n",
      "     ----------------------------- ---------- 10.9/14.6 MB 3.7 MB/s eta 0:00:02\n",
      "     ------------------------------ --------- 11.1/14.6 MB 3.6 MB/s eta 0:00:01\n",
      "     ------------------------------ --------- 11.2/14.6 MB 3.7 MB/s eta 0:00:01\n",
      "     ------------------------------- -------- 11.4/14.6 MB 3.6 MB/s eta 0:00:01\n",
      "     ------------------------------- -------- 11.5/14.6 MB 3.6 MB/s eta 0:00:01\n",
      "     ------------------------------- -------- 11.7/14.6 MB 3.7 MB/s eta 0:00:01\n",
      "     -------------------------------- ------- 11.8/14.6 MB 3.7 MB/s eta 0:00:01\n",
      "     -------------------------------- ------- 12.0/14.6 MB 3.6 MB/s eta 0:00:01\n",
      "     --------------------------------- ------ 12.1/14.6 MB 3.6 MB/s eta 0:00:01\n",
      "     --------------------------------- ------ 12.3/14.6 MB 3.6 MB/s eta 0:00:01\n",
      "     --------------------------------- ------ 12.4/14.6 MB 3.6 MB/s eta 0:00:01\n",
      "     ---------------------------------- ----- 12.6/14.6 MB 3.6 MB/s eta 0:00:01\n",
      "     ---------------------------------- ----- 12.8/14.6 MB 3.6 MB/s eta 0:00:01\n",
      "     ----------------------------------- ---- 12.9/14.6 MB 3.7 MB/s eta 0:00:01\n",
      "     ----------------------------------- ---- 13.1/14.6 MB 3.7 MB/s eta 0:00:01\n",
      "     ------------------------------------ --- 13.2/14.6 MB 3.6 MB/s eta 0:00:01\n",
      "     ------------------------------------ --- 13.4/14.6 MB 3.6 MB/s eta 0:00:01\n",
      "     ------------------------------------- -- 13.6/14.6 MB 3.6 MB/s eta 0:00:01\n",
      "     ------------------------------------- -- 13.7/14.6 MB 3.6 MB/s eta 0:00:01\n",
      "     ------------------------------------- -- 13.9/14.6 MB 3.6 MB/s eta 0:00:01\n",
      "     -------------------------------------- - 14.0/14.6 MB 3.7 MB/s eta 0:00:01\n",
      "     -------------------------------------- - 14.2/14.6 MB 3.7 MB/s eta 0:00:01\n",
      "     ---------------------------------------  14.3/14.6 MB 3.6 MB/s eta 0:00:01\n",
      "     ---------------------------------------  14.5/14.6 MB 3.7 MB/s eta 0:00:01\n",
      "     ---------------------------------------  14.6/14.6 MB 3.6 MB/s eta 0:00:01\n",
      "     ---------------------------------------- 14.6/14.6 MB 3.6 MB/s eta 0:00:00\n",
      "Installing collected packages: numpy\n",
      "  Attempting uninstall: numpy\n",
      "    Found existing installation: numpy 1.24.3\n",
      "    Uninstalling numpy-1.24.3:\n",
      "      Successfully uninstalled numpy-1.24.3\n",
      "Successfully installed numpy-1.23.5\n",
      "Note: you may need to restart the kernel to use updated packages.\n"
     ]
    },
    {
     "name": "stderr",
     "output_type": "stream",
     "text": [
      "ERROR: pip's dependency resolver does not currently take into account all the packages that are installed. This behaviour is the source of the following dependency conflicts.\n",
      "gensim 4.3.0 requires FuzzyTM>=0.4.0, which is not installed.\n",
      "tables 3.8.0 requires blosc2~=2.0.0, which is not installed.\n",
      "tables 3.8.0 requires cython>=0.29.21, which is not installed.\n"
     ]
    }
   ],
   "source": [
    "pip install numpy==1.23.5"
   ]
  },
  {
   "cell_type": "code",
   "execution_count": 3,
   "id": "9dd04a80",
   "metadata": {},
   "outputs": [],
   "source": [
    "import numpy as np\n",
    "import pandas as pd\n",
    "import matplotlib.pyplot as plt"
   ]
  },
  {
   "cell_type": "code",
   "execution_count": 10,
   "id": "3e694697",
   "metadata": {},
   "outputs": [
    {
     "data": {
      "text/plain": [
       "<bound method NDFrame.head of     YearsExperience    Salary\n",
       "0               1.1   39343.0\n",
       "1               1.3   46205.0\n",
       "2               1.5   37731.0\n",
       "3               2.0   43525.0\n",
       "4               2.2   39891.0\n",
       "5               2.9   56642.0\n",
       "6               3.0   60150.0\n",
       "7               3.2   54445.0\n",
       "8               3.2   64445.0\n",
       "9               3.7   57189.0\n",
       "10              3.9   63218.0\n",
       "11              4.0   55794.0\n",
       "12              4.0   56957.0\n",
       "13              4.1   57081.0\n",
       "14              4.5   61111.0\n",
       "15              4.9   67938.0\n",
       "16              5.1   66029.0\n",
       "17              5.3   83088.0\n",
       "18              5.9   81363.0\n",
       "19              6.0   93940.0\n",
       "20              6.8   91738.0\n",
       "21              7.1   98273.0\n",
       "22              7.9  101302.0\n",
       "23              8.2  113812.0\n",
       "24              8.7  109431.0\n",
       "25              9.0  105582.0\n",
       "26              9.5  116969.0\n",
       "27              9.6  112635.0\n",
       "28             10.3  122391.0\n",
       "29             10.5  121872.0>"
      ]
     },
     "execution_count": 10,
     "metadata": {},
     "output_type": "execute_result"
    }
   ],
   "source": [
    "dataset=pd.read_csv('Salary_Data.csv')\n",
    "dataset.head\n"
   ]
  },
  {
   "cell_type": "code",
   "execution_count": 12,
   "id": "e5169fad",
   "metadata": {},
   "outputs": [
    {
     "data": {
      "text/plain": [
       "0      1.1\n",
       "1      1.3\n",
       "2      1.5\n",
       "3      2.0\n",
       "4      2.2\n",
       "5      2.9\n",
       "6      3.0\n",
       "7      3.2\n",
       "8      3.2\n",
       "9      3.7\n",
       "10     3.9\n",
       "11     4.0\n",
       "12     4.0\n",
       "13     4.1\n",
       "14     4.5\n",
       "15     4.9\n",
       "16     5.1\n",
       "17     5.3\n",
       "18     5.9\n",
       "19     6.0\n",
       "20     6.8\n",
       "21     7.1\n",
       "22     7.9\n",
       "23     8.2\n",
       "24     8.7\n",
       "25     9.0\n",
       "26     9.5\n",
       "27     9.6\n",
       "28    10.3\n",
       "29    10.5\n",
       "Name: YearsExperience, dtype: float64"
      ]
     },
     "execution_count": 12,
     "metadata": {},
     "output_type": "execute_result"
    }
   ],
   "source": [
    "x=dataset.iloc[:,0]\n",
    "x"
   ]
  },
  {
   "cell_type": "code",
   "execution_count": 25,
   "id": "0eeaca84",
   "metadata": {},
   "outputs": [
    {
     "data": {
      "text/plain": [
       "array([ 39343.,  46205.,  37731.,  43525.,  39891.,  56642.,  60150.,\n",
       "        54445.,  64445.,  57189.,  63218.,  55794.,  56957.,  57081.,\n",
       "        61111.,  67938.,  66029.,  83088.,  81363.,  93940.,  91738.,\n",
       "        98273., 101302., 113812., 109431., 105582., 116969., 112635.,\n",
       "       122391., 121872.])"
      ]
     },
     "execution_count": 25,
     "metadata": {},
     "output_type": "execute_result"
    }
   ],
   "source": [
    "y=dataset.iloc[:,1].values\n",
    "y"
   ]
  },
  {
   "cell_type": "code",
   "execution_count": 18,
   "id": "ea6d5fd5",
   "metadata": {},
   "outputs": [
    {
     "data": {
      "text/plain": [
       "array([[ 1.1],\n",
       "       [ 1.3],\n",
       "       [ 1.5],\n",
       "       [ 2. ],\n",
       "       [ 2.2],\n",
       "       [ 2.9],\n",
       "       [ 3. ],\n",
       "       [ 3.2],\n",
       "       [ 3.2],\n",
       "       [ 3.7],\n",
       "       [ 3.9],\n",
       "       [ 4. ],\n",
       "       [ 4. ],\n",
       "       [ 4.1],\n",
       "       [ 4.5],\n",
       "       [ 4.9],\n",
       "       [ 5.1],\n",
       "       [ 5.3],\n",
       "       [ 5.9],\n",
       "       [ 6. ],\n",
       "       [ 6.8],\n",
       "       [ 7.1],\n",
       "       [ 7.9],\n",
       "       [ 8.2],\n",
       "       [ 8.7],\n",
       "       [ 9. ],\n",
       "       [ 9.5],\n",
       "       [ 9.6],\n",
       "       [10.3],\n",
       "       [10.5]])"
      ]
     },
     "execution_count": 18,
     "metadata": {},
     "output_type": "execute_result"
    }
   ],
   "source": [
    "x=dataset.iloc[:,:-1].values  # negelect last column which is salary      .values to remove headers\n",
    "x"
   ]
  },
  {
   "cell_type": "code",
   "execution_count": 26,
   "id": "23012e78",
   "metadata": {},
   "outputs": [],
   "source": [
    "from sklearn.model_selection import train_test_split   #splits dataset"
   ]
  },
  {
   "cell_type": "code",
   "execution_count": 27,
   "id": "ad66f672",
   "metadata": {},
   "outputs": [],
   "source": [
    "x_train,x_test,y_train,y_test=train_test_split(x,y,test_size=0.3,random_state=1) # test willl be 30%\n",
    "                                                                              #if randem state is 1 the portion that is divided\n",
    "                             \n",
    "                                                          # in x and y will always be the same after each run and wont change\n",
    "        "
   ]
  },
  {
   "cell_type": "code",
   "execution_count": 28,
   "id": "94d0b383",
   "metadata": {},
   "outputs": [
    {
     "data": {
      "text/html": [
       "<style>#sk-container-id-2 {color: black;}#sk-container-id-2 pre{padding: 0;}#sk-container-id-2 div.sk-toggleable {background-color: white;}#sk-container-id-2 label.sk-toggleable__label {cursor: pointer;display: block;width: 100%;margin-bottom: 0;padding: 0.3em;box-sizing: border-box;text-align: center;}#sk-container-id-2 label.sk-toggleable__label-arrow:before {content: \"▸\";float: left;margin-right: 0.25em;color: #696969;}#sk-container-id-2 label.sk-toggleable__label-arrow:hover:before {color: black;}#sk-container-id-2 div.sk-estimator:hover label.sk-toggleable__label-arrow:before {color: black;}#sk-container-id-2 div.sk-toggleable__content {max-height: 0;max-width: 0;overflow: hidden;text-align: left;background-color: #f0f8ff;}#sk-container-id-2 div.sk-toggleable__content pre {margin: 0.2em;color: black;border-radius: 0.25em;background-color: #f0f8ff;}#sk-container-id-2 input.sk-toggleable__control:checked~div.sk-toggleable__content {max-height: 200px;max-width: 100%;overflow: auto;}#sk-container-id-2 input.sk-toggleable__control:checked~label.sk-toggleable__label-arrow:before {content: \"▾\";}#sk-container-id-2 div.sk-estimator input.sk-toggleable__control:checked~label.sk-toggleable__label {background-color: #d4ebff;}#sk-container-id-2 div.sk-label input.sk-toggleable__control:checked~label.sk-toggleable__label {background-color: #d4ebff;}#sk-container-id-2 input.sk-hidden--visually {border: 0;clip: rect(1px 1px 1px 1px);clip: rect(1px, 1px, 1px, 1px);height: 1px;margin: -1px;overflow: hidden;padding: 0;position: absolute;width: 1px;}#sk-container-id-2 div.sk-estimator {font-family: monospace;background-color: #f0f8ff;border: 1px dotted black;border-radius: 0.25em;box-sizing: border-box;margin-bottom: 0.5em;}#sk-container-id-2 div.sk-estimator:hover {background-color: #d4ebff;}#sk-container-id-2 div.sk-parallel-item::after {content: \"\";width: 100%;border-bottom: 1px solid gray;flex-grow: 1;}#sk-container-id-2 div.sk-label:hover label.sk-toggleable__label {background-color: #d4ebff;}#sk-container-id-2 div.sk-serial::before {content: \"\";position: absolute;border-left: 1px solid gray;box-sizing: border-box;top: 0;bottom: 0;left: 50%;z-index: 0;}#sk-container-id-2 div.sk-serial {display: flex;flex-direction: column;align-items: center;background-color: white;padding-right: 0.2em;padding-left: 0.2em;position: relative;}#sk-container-id-2 div.sk-item {position: relative;z-index: 1;}#sk-container-id-2 div.sk-parallel {display: flex;align-items: stretch;justify-content: center;background-color: white;position: relative;}#sk-container-id-2 div.sk-item::before, #sk-container-id-2 div.sk-parallel-item::before {content: \"\";position: absolute;border-left: 1px solid gray;box-sizing: border-box;top: 0;bottom: 0;left: 50%;z-index: -1;}#sk-container-id-2 div.sk-parallel-item {display: flex;flex-direction: column;z-index: 1;position: relative;background-color: white;}#sk-container-id-2 div.sk-parallel-item:first-child::after {align-self: flex-end;width: 50%;}#sk-container-id-2 div.sk-parallel-item:last-child::after {align-self: flex-start;width: 50%;}#sk-container-id-2 div.sk-parallel-item:only-child::after {width: 0;}#sk-container-id-2 div.sk-dashed-wrapped {border: 1px dashed gray;margin: 0 0.4em 0.5em 0.4em;box-sizing: border-box;padding-bottom: 0.4em;background-color: white;}#sk-container-id-2 div.sk-label label {font-family: monospace;font-weight: bold;display: inline-block;line-height: 1.2em;}#sk-container-id-2 div.sk-label-container {text-align: center;}#sk-container-id-2 div.sk-container {/* jupyter's `normalize.less` sets `[hidden] { display: none; }` but bootstrap.min.css set `[hidden] { display: none !important; }` so we also need the `!important` here to be able to override the default hidden behavior on the sphinx rendered scikit-learn.org. See: https://github.com/scikit-learn/scikit-learn/issues/21755 */display: inline-block !important;position: relative;}#sk-container-id-2 div.sk-text-repr-fallback {display: none;}</style><div id=\"sk-container-id-2\" class=\"sk-top-container\"><div class=\"sk-text-repr-fallback\"><pre>LinearRegression()</pre><b>In a Jupyter environment, please rerun this cell to show the HTML representation or trust the notebook. <br />On GitHub, the HTML representation is unable to render, please try loading this page with nbviewer.org.</b></div><div class=\"sk-container\" hidden><div class=\"sk-item\"><div class=\"sk-estimator sk-toggleable\"><input class=\"sk-toggleable__control sk-hidden--visually\" id=\"sk-estimator-id-2\" type=\"checkbox\" checked><label for=\"sk-estimator-id-2\" class=\"sk-toggleable__label sk-toggleable__label-arrow\">LinearRegression</label><div class=\"sk-toggleable__content\"><pre>LinearRegression()</pre></div></div></div></div></div>"
      ],
      "text/plain": [
       "LinearRegression()"
      ]
     },
     "execution_count": 28,
     "metadata": {},
     "output_type": "execute_result"
    }
   ],
   "source": [
    "from sklearn.linear_model import LinearRegression\n",
    "model=LinearRegression()\n",
    "model.fit(x_train,y_train)   # will give x and y train points to linear regression to draw best line"
   ]
  },
  {
   "cell_type": "code",
   "execution_count": 29,
   "id": "1a04fe4c",
   "metadata": {},
   "outputs": [
    {
     "data": {
      "text/plain": [
       "<function matplotlib.pyplot.show(close=None, block=None)>"
      ]
     },
     "execution_count": 29,
     "metadata": {},
     "output_type": "execute_result"
    },
    {
     "data": {
      "image/png": "[encoded data removed]",
      "text/plain": [
       "<Figure size 640x480 with 1 Axes>"
      ]
     },
     "metadata": {},
     "output_type": "display_data"
    }
   ],
   "source": [
    "y_pred=model.predict(x_test)          # output y from trained model if gave x with values. will store them in y_predict      \n",
    "plt.scatter(x_train,y_train,color='red')       # plots the dots that the line will try to follow (real values)\n",
    "plt.plot(x_train,model.predict(x_train),color='blue')   # I plot the x_trained and the predicted output y from x_trained \n",
    "plt.xlabel('years of experience')\n",
    "plt.ylabel('salary')\n",
    "plt.title('salary vs experience')          \n",
    "plt.show      # to show the drawing for me"
   ]
  },
  {
   "cell_type": "code",
   "execution_count": null,
   "id": "c55d6a8f",
   "metadata": {},
   "outputs": [],
   "source": []
  }
 ],
 "metadata": {
  "kernelspec": {
   "display_name": "Python 3 (ipykernel)",
   "language": "python",
   "name": "python3"
  },
  "language_info": {
   "codemirror_mode": {
    "name": "ipython",
    "version": 3
   },
   "file_extension": ".py",
   "mimetype": "text/x-python",
   "name": "python",
   "nbconvert_exporter": "python",
   "pygments_lexer": "ipython3",
   "version": "3.11.5"
  }
 },
 "nbformat": 4,
 "nbformat_minor": 5
}
