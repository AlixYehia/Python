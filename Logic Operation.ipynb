{
 "cells": [
  {
   "cell_type": "code",
   "execution_count": null,
   "id": "1bcb7dc2",
   "metadata": {},
   "outputs": [
    {
     "name": "stdin",
     "output_type": "stream",
     "text": [
      "Enter the operation you want to perform (AND, OR, NAND, NOR, XOR):  xor\n",
      "bit 1:  e\n",
      "bit 2:  d\n"
     ]
    },
    {
     "name": "stdout",
     "output_type": "stream",
     "text": [
      "Invalid input, bits must be 0 or 1\n"
     ]
    },
    {
     "name": "stdin",
     "output_type": "stream",
     "text": [
      "Enter 'y' if you want to continue:  y\n"
     ]
    }
   ],
   "source": [
    "i = 'y'\n",
    "while i == 'y':\n",
    "    i = 'y'\n",
    "    while i == 'y':\n",
    "        x = input(\"Enter the operation you want to perform (AND, OR, NAND, NOR, XOR): \").lower()\n",
    "\n",
    "        if x not in ['and', 'or', 'nand', 'nor', 'xor']:\n",
    "            print(\"Invalid operation\")\n",
    "            break\n",
    "\n",
    "        y_input = input(\"bit 1: \")\n",
    "        z_input = input(\"bit 2: \")\n",
    "\n",
    "        if not y_input.isdigit() or not z_input.isdigit():\n",
    "            print(\"Invalid input, bits must be 0 or 1\")\n",
    "            break\n",
    "\n",
    "        y, z = int(y_input), int(z_input)\n",
    "\n",
    "        if y > 1 or z > 1 or y < 0 or z < 0:\n",
    "            print(\"Wrong input, bits must be 0 or 1\")\n",
    "            break\n",
    "\n",
    "        if x == 'and':\n",
    "            print(\"Output is\", y and z)\n",
    "        elif x == 'or':\n",
    "            print(\"Output is\", y or z)\n",
    "        elif x == 'nand':\n",
    "            print(\"Output is\", not(y and z))\n",
    "        elif x == 'nor':\n",
    "            print(\"Output is\", not(y or z))\n",
    "        elif x == 'xor':\n",
    "            print(\"Output is\", y ^ z)\n",
    "\n",
    "        i = input(\"Enter 'y' if you want to continue: \").lower()\n",
    "\n",
    "    i = input(\"Enter 'y' if you want to continue: \").lower()\n"
   ]
  },
  {
   "cell_type": "code",
   "execution_count": null,
   "id": "59f15715",
   "metadata": {},
   "outputs": [],
   "source": []
  }
 ],
 "metadata": {
  "kernelspec": {
   "display_name": "Python 3 (ipykernel)",
   "language": "python",
   "name": "python3"
  },
  "language_info": {
   "codemirror_mode": {
    "name": "ipython",
    "version": 3
   },
   "file_extension": ".py",
   "mimetype": "text/x-python",
   "name": "python",
   "nbconvert_exporter": "python",
   "pygments_lexer": "ipython3",
   "version": "3.11.7"
  }
 },
 "nbformat": 4,
 "nbformat_minor": 5
}
