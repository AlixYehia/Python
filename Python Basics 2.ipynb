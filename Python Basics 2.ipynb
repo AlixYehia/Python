{
 "cells": [
  {
   "cell_type": "code",
   "execution_count": 7,
   "id": "8f498610",
   "metadata": {},
   "outputs": [
    {
     "name": "stdout",
     "output_type": "stream",
     "text": [
      "Enter the number to check 2\n",
      "2 is even\n"
     ]
    }
   ],
   "source": [
    "x=int(input(\"Enter the number to check \"))\n",
    "if x%2==0:\n",
    "    print(x,\"is even\")\n",
    "else:\n",
    "    print(x,\"is Odd\")"
   ]
  },
  {
   "cell_type": "code",
   "execution_count": 15,
   "id": "19abae3b",
   "metadata": {},
   "outputs": [
    {
     "name": "stdout",
     "output_type": "stream",
     "text": [
      "1\n",
      "3\n",
      "<class 'list'>\n",
      "[1, 2, 3, 4]\n"
     ]
    },
    {
     "data": {
      "text/plain": [
       "list"
      ]
     },
     "execution_count": 15,
     "metadata": {},
     "output_type": "execute_result"
    }
   ],
   "source": [
    "# List\n",
    "\n",
    "x=[1,2,3]              # List\n",
    "y=[1,'Hi',3]\n",
    "print(x[0])\n",
    "print(y[-1])\n",
    "print(type(y))\n",
    "x.append(4)\n",
    "print(x)\n",
    "type(x)"
   ]
  },
  {
   "cell_type": "code",
   "execution_count": 16,
   "id": "a2e01154",
   "metadata": {},
   "outputs": [
    {
     "name": "stdout",
     "output_type": "stream",
     "text": [
      "[2, 'Hi', 3]\n"
     ]
    }
   ],
   "source": [
    "y[0]=2\n",
    "print(y)"
   ]
  },
  {
   "cell_type": "code",
   "execution_count": 18,
   "id": "bbcb1109",
   "metadata": {},
   "outputs": [
    {
     "name": "stdout",
     "output_type": "stream",
     "text": [
      "[1, 1, 1, 1]\n"
     ]
    }
   ],
   "source": [
    "z=[1,1,1,1]\n",
    "print(z)"
   ]
  },
  {
   "cell_type": "code",
   "execution_count": 54,
   "id": "ed43ba6a",
   "metadata": {},
   "outputs": [
    {
     "name": "stdout",
     "output_type": "stream",
     "text": [
      "value\n",
      "Ahmed15107788\n",
      "dict_values(['Ahmed', 15107788, 3.8])\n",
      "dict_keys(['student_name', 'student_ID', 'student_GPA'])\n"
     ]
    },
    {
     "data": {
      "text/plain": [
       "dict"
      ]
     },
     "execution_count": 54,
     "metadata": {},
     "output_type": "execute_result"
    }
   ],
   "source": [
    "# Dictionary\n",
    "\n",
    "x={'key':'value'} # Dict                      \n",
    "\n",
    "y={'student_name':'Ahmed', 'student_ID':15107788, 'student_GPA':3 }    \n",
    "\n",
    "print(x['key'])\n",
    "y['student_name']  # since i defined student_name as string i must when i call put it between quotations\n",
    "y['student_ID']\n",
    "y['student_GPA']=3.8\n",
    "\n",
    "print(y['student_name'] + str(y['student_ID']) )  # since can only concatenate str (not \"int\") to str\n",
    "\n",
    "print(y.values())\n",
    "\n",
    "print(y.keys())\n",
    "\n",
    "type(x)"
   ]
  },
  {
   "cell_type": "code",
   "execution_count": 58,
   "id": "ab4d2131",
   "metadata": {},
   "outputs": [
    {
     "name": "stdout",
     "output_type": "stream",
     "text": [
      "(1, 1, 2)\n"
     ]
    },
    {
     "data": {
      "text/plain": [
       "tuple"
      ]
     },
     "execution_count": 58,
     "metadata": {},
     "output_type": "execute_result"
    }
   ],
   "source": [
    "# Tuple\n",
    "\n",
    "t=(1,1,2)   # same as list but cant assign new value\n",
    "\n",
    "print(t)\n",
    "\n",
    "type(t)\n",
    "\n",
    "# t.append(5) cant append in tuble\n"
   ]
  },
  {
   "cell_type": "code",
   "execution_count": 59,
   "id": "7b3ec329",
   "metadata": {},
   "outputs": [
    {
     "name": "stdout",
     "output_type": "stream",
     "text": [
      "11\n"
     ]
    }
   ],
   "source": [
    "# Functions\n",
    "\n",
    "def addition (x,y):\n",
    "    return x+y\n",
    "\n",
    "x = addition(5,6)\n",
    "\n",
    "print(x)"
   ]
  },
  {
   "cell_type": "code",
   "execution_count": 64,
   "id": "f363a2a3",
   "metadata": {},
   "outputs": [
    {
     "name": "stdout",
     "output_type": "stream",
     "text": [
      "Enter the first number to check 7\n",
      "Enter the second number to check 8\n",
      "7 is Odd\n",
      "8 is even\n"
     ]
    }
   ],
   "source": [
    "def odd_even_checker(x,y):\n",
    "\n",
    "    if x%2==0:\n",
    "        print(x,\"is even\")\n",
    "    else:\n",
    "        print(x,\"is Odd\")\n",
    "\n",
    "    if y%2==0:\n",
    "        print(y,\"is even\")\n",
    "    else:\n",
    "        print(y,\"is Odd\")\n",
    "        \n",
    "x=int(input(\"Enter the first number to check \"))\n",
    "y=int(input(\"Enter the second number to check \"))\n",
    "\n",
    "checker = odd_even_checker(x,y)"
   ]
  },
  {
   "cell_type": "code",
   "execution_count": 65,
   "id": "11b5499a",
   "metadata": {},
   "outputs": [
    {
     "name": "stdout",
     "output_type": "stream",
     "text": [
      "0\n",
      "1\n",
      "2\n",
      "3\n",
      "4\n",
      "5\n",
      "6\n"
     ]
    }
   ],
   "source": [
    "# Loops\n",
    "\n",
    "for i in range (0,7):      # 7 is end+1    while my real end is 6 \n",
    "    print(i)"
   ]
  },
  {
   "cell_type": "code",
   "execution_count": 71,
   "id": "48895ddf",
   "metadata": {},
   "outputs": [
    {
     "name": "stdout",
     "output_type": "stream",
     "text": [
      "0\n",
      "2\n",
      "4\n",
      "6\n"
     ]
    }
   ],
   "source": [
    "for i in range (0, 7, 2):      # 7 is end+1    while my real end is 6 \n",
    "    print(i)   # cant use float as a step size (0, 7, 0.5)"
   ]
  },
  {
   "cell_type": "code",
   "execution_count": 72,
   "id": "51f4cc78",
   "metadata": {},
   "outputs": [
    {
     "name": "stdout",
     "output_type": "stream",
     "text": [
      "0\n",
      "1\n",
      "2\n",
      "3\n",
      "4\n",
      "5\n",
      "6\n"
     ]
    }
   ],
   "source": [
    "i=0\n",
    "while i<7:\n",
    "    print(i)\n",
    "    i+=1"
   ]
  },
  {
   "cell_type": "code",
   "execution_count": null,
   "id": "aa786c97",
   "metadata": {},
   "outputs": [],
   "source": []
  }
 ],
 "metadata": {
  "kernelspec": {
   "display_name": "Python 3 (ipykernel)",
   "language": "python",
   "name": "python3"
  },
  "language_info": {
   "codemirror_mode": {
    "name": "ipython",
    "version": 3
   },
   "file_extension": ".py",
   "mimetype": "text/x-python",
   "name": "python",
   "nbconvert_exporter": "python",
   "pygments_lexer": "ipython3",
   "version": "3.11.5"
  }
 },
 "nbformat": 4,
 "nbformat_minor": 5
}
