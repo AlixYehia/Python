{
 "cells": [
  {
   "cell_type": "code",
   "execution_count": 3,
   "id": "f13d5e7d",
   "metadata": {},
   "outputs": [
    {
     "name": "stdout",
     "output_type": "stream",
     "text": [
      "Welcome to Transve Island!\n",
      "You are at a crossroad. Would you like to go left or right? (left/right): left\n",
      "You've come to a lake. Would you like to swim across or wait for a boat? (swim/wait): swim\n",
      "Game over! Attacked by a crocodile.\n"
     ]
    }
   ],
   "source": [
    "def transve_island_game():\n",
    "    print(\"Welcome to Transve Island!\")\n",
    "    choice1 = input(\"You are at a crossroad. Would you like to go left or right? (left/right): \").lower()\n",
    "    # The .lower() method is then called on this string to ensure that the user's input is converted to lowercase. \n",
    "    # This way, whether the user enters \"Left\", \"left\", \"LEFT\", or any other variation, \n",
    "    # it will be converted to \"left\" for comparison.\n",
    "    \n",
    "    if choice1 == \"right\":\n",
    "        print(\"Game over! You fell into a pit.\")\n",
    "    elif choice1 == \"left\":\n",
    "        choice2 = input(\"You've come to a lake. Would you like to swim across or wait for a boat? (swim/wait): \").lower()\n",
    "        if choice2 == \"swim\":\n",
    "            print(\"Game over! Attacked by a crocodile.\")\n",
    "        elif choice2 == \"wait\":\n",
    "            choice3 = input(\"You arrive at a house with 3 doors - one red, one blue, and one yellow. Which color do you choose? (red/blue/yellow): \").lower()\n",
    "            if choice3 == \"blue\" or choice3 == \"red\":\n",
    "                print(\"Game over! You opened a door to a room full of monsters.\")\n",
    "            elif choice3 == \"yellow\":\n",
    "                print(\"You win!\")\n",
    "            else:\n",
    "                print(\"Game over!\")\n",
    "        else:\n",
    "            print(\"Game over!\")\n",
    "    else:\n",
    "        print(\"Game over!\")\n",
    "\n",
    "# Run the game\n",
    "transve_island_game()\n"
   ]
  },
  {
   "cell_type": "code",
   "execution_count": null,
   "id": "76c27059",
   "metadata": {},
   "outputs": [],
   "source": []
  }
 ],
 "metadata": {
  "kernelspec": {
   "display_name": "Python 3 (ipykernel)",
   "language": "python",
   "name": "python3"
  },
  "language_info": {
   "codemirror_mode": {
    "name": "ipython",
    "version": 3
   },
   "file_extension": ".py",
   "mimetype": "text/x-python",
   "name": "python",
   "nbconvert_exporter": "python",
   "pygments_lexer": "ipython3",
   "version": "3.11.5"
  }
 },
 "nbformat": 4,
 "nbformat_minor": 5
}
