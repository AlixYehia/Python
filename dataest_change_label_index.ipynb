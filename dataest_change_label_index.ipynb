{
 "cells": [
  {
   "cell_type": "code",
   "execution_count": 1,
   "id": "4d798b3a-165a-49cb-b12d-761de31e7e4d",
   "metadata": {},
   "outputs": [],
   "source": [
    "import os\n",
    "\n",
    "# Get the current working directory\n",
    "cwd = os.getcwd()\n",
    "\n",
    "# Define the path to the directory containing the .txt files\n",
    "txt_files_path = os.path.join(cwd, r\"C:\\Users\\aliye\\OneDrive\\Desktop\\tests\\plates\")\n",
    "\n",
    "# Iterate through each file in the directory\n",
    "for filename in os.listdir(txt_files_path):\n",
    "    # Check if the file ends with .txt\n",
    "    if filename.endswith(\".txt\"):\n",
    "        # Get the full path of the file\n",
    "        file_path = os.path.join(txt_files_path, filename)\n",
    "\n",
    "        # Read the contents of the file\n",
    "        with open(file_path, \"r\") as f:\n",
    "            lines = f.readlines()\n",
    "\n",
    "        # Modify the class label from 4 to 0\n",
    "        for i, line in enumerate(lines):\n",
    "            if line.startswith(\"15\"):\n",
    "                lines[i] = \"0\" + line[1:]\n",
    "\n",
    "        # Write the modified contents back to the file\n",
    "        with open(file_path, \"w\") as f:\n",
    "            f.writelines(lines)"
   ]
  },
  {
   "cell_type": "code",
   "execution_count": null,
   "id": "7b4d1724-5df0-42e2-b648-715d1d596bd0",
   "metadata": {},
   "outputs": [],
   "source": []
  }
 ],
 "metadata": {
  "kernelspec": {
   "display_name": "Python 3 (ipykernel)",
   "language": "python",
   "name": "python3"
  },
  "language_info": {
   "codemirror_mode": {
    "name": "ipython",
    "version": 3
   },
   "file_extension": ".py",
   "mimetype": "text/x-python",
   "name": "python",
   "nbconvert_exporter": "python",
   "pygments_lexer": "ipython3",
   "version": "3.9.19"
  }
 },
 "nbformat": 4,
 "nbformat_minor": 5
}
